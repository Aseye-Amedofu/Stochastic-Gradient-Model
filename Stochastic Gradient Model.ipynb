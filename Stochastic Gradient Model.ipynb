{
 "cells": [
  {
   "cell_type": "markdown",
   "id": "4b8a74bf",
   "metadata": {},
   "source": [
    "# Training Set"
   ]
  },
  {
   "cell_type": "code",
   "execution_count": 1,
   "id": "5efeb69b",
   "metadata": {},
   "outputs": [],
   "source": [
    "import pandas as pd\n",
    "import numpy as np"
   ]
  },
  {
   "cell_type": "code",
   "execution_count": 2,
   "id": "1acab10b",
   "metadata": {},
   "outputs": [],
   "source": [
    "#import data\n",
    "\n",
    "housing = pd.read_csv(\"housing.csv\")"
   ]
  },
  {
   "cell_type": "code",
   "execution_count": 3,
   "id": "d42a4c73",
   "metadata": {},
   "outputs": [],
   "source": [
    "#Split data into train and test sets, 80% train 20% test\n",
    "\n",
    "from sklearn.model_selection import train_test_split\n",
    "\n",
    "train, test = train_test_split(housing, test_size=0.2, random_state=42)"
   ]
  },
  {
   "cell_type": "code",
   "execution_count": 4,
   "id": "b7453416",
   "metadata": {},
   "outputs": [
    {
     "data": {
      "text/plain": [
       "((4128, 10), (16512, 10))"
      ]
     },
     "execution_count": 4,
     "metadata": {},
     "output_type": "execute_result"
    }
   ],
   "source": [
    "test.shape, train.shape"
   ]
  },
  {
   "cell_type": "code",
   "execution_count": 5,
   "id": "04e3c523",
   "metadata": {},
   "outputs": [
    {
     "name": "stdout",
     "output_type": "stream",
     "text": [
      "<class 'pandas.core.frame.DataFrame'>\n",
      "Int64Index: 16512 entries, 14196 to 15795\n",
      "Data columns (total 10 columns):\n",
      " #   Column              Non-Null Count  Dtype  \n",
      "---  ------              --------------  -----  \n",
      " 0   longitude           16512 non-null  float64\n",
      " 1   latitude            16512 non-null  float64\n",
      " 2   housing_median_age  16512 non-null  float64\n",
      " 3   total_rooms         16512 non-null  float64\n",
      " 4   total_bedrooms      16512 non-null  float64\n",
      " 5   population          16512 non-null  float64\n",
      " 6   households          16512 non-null  float64\n",
      " 7   median_income       16512 non-null  float64\n",
      " 8   median_house_value  16512 non-null  float64\n",
      " 9   ocean_proximity     16512 non-null  object \n",
      "dtypes: float64(9), object(1)\n",
      "memory usage: 1.4+ MB\n"
     ]
    }
   ],
   "source": [
    "train.info()"
   ]
  },
  {
   "cell_type": "code",
   "execution_count": 6,
   "id": "9a034731",
   "metadata": {},
   "outputs": [],
   "source": [
    "#replace each attribute’s missing values with the median of that attribute\n",
    "\n",
    "from sklearn.impute import SimpleImputer\n",
    "\n",
    "imputer=SimpleImputer(strategy=\"median\")"
   ]
  },
  {
   "cell_type": "code",
   "execution_count": 7,
   "id": "da60e742",
   "metadata": {},
   "outputs": [
    {
     "data": {
      "text/plain": [
       "array([-1.1851e+02,  3.4260e+01,  2.9000e+01,  2.1290e+03,  4.3700e+02,\n",
       "        1.1670e+03,  4.1000e+02,  3.5458e+00,  1.7985e+05])"
      ]
     },
     "execution_count": 7,
     "metadata": {},
     "output_type": "execute_result"
    }
   ],
   "source": [
    "#exclude text attribute and fit to training data\n",
    "\n",
    "train_num=train.drop(\"ocean_proximity\", axis=1)\n",
    "imputer.fit(train_num)\n",
    "\n",
    "#result stored in statistics. print statistics\n",
    "imputer.statistics_\n",
    "train_num.median().values"
   ]
  },
  {
   "cell_type": "code",
   "execution_count": null,
   "id": "800d698e",
   "metadata": {},
   "outputs": [],
   "source": []
  },
  {
   "cell_type": "code",
   "execution_count": 8,
   "id": "343c3d75",
   "metadata": {},
   "outputs": [],
   "source": [
    "#transformed training set in a dataframe\n",
    "\n",
    "X=imputer.transform(train_num)\n",
    "train_tr=pd.DataFrame(X, columns=train_num.columns)"
   ]
  },
  {
   "cell_type": "code",
   "execution_count": 9,
   "id": "1fee4046",
   "metadata": {},
   "outputs": [
    {
     "data": {
      "text/html": [
       "<div>\n",
       "<style scoped>\n",
       "    .dataframe tbody tr th:only-of-type {\n",
       "        vertical-align: middle;\n",
       "    }\n",
       "\n",
       "    .dataframe tbody tr th {\n",
       "        vertical-align: top;\n",
       "    }\n",
       "\n",
       "    .dataframe thead th {\n",
       "        text-align: right;\n",
       "    }\n",
       "</style>\n",
       "<table border=\"1\" class=\"dataframe\">\n",
       "  <thead>\n",
       "    <tr style=\"text-align: right;\">\n",
       "      <th></th>\n",
       "      <th>ocean_proximity</th>\n",
       "    </tr>\n",
       "  </thead>\n",
       "  <tbody>\n",
       "    <tr>\n",
       "      <th>14196</th>\n",
       "      <td>NEAR OCEAN</td>\n",
       "    </tr>\n",
       "    <tr>\n",
       "      <th>8267</th>\n",
       "      <td>NEAR OCEAN</td>\n",
       "    </tr>\n",
       "    <tr>\n",
       "      <th>17445</th>\n",
       "      <td>NEAR OCEAN</td>\n",
       "    </tr>\n",
       "    <tr>\n",
       "      <th>14265</th>\n",
       "      <td>NEAR OCEAN</td>\n",
       "    </tr>\n",
       "    <tr>\n",
       "      <th>2271</th>\n",
       "      <td>INLAND</td>\n",
       "    </tr>\n",
       "    <tr>\n",
       "      <th>17848</th>\n",
       "      <td>&lt;1H OCEAN</td>\n",
       "    </tr>\n",
       "    <tr>\n",
       "      <th>6252</th>\n",
       "      <td>&lt;1H OCEAN</td>\n",
       "    </tr>\n",
       "    <tr>\n",
       "      <th>9389</th>\n",
       "      <td>NEAR BAY</td>\n",
       "    </tr>\n",
       "    <tr>\n",
       "      <th>6113</th>\n",
       "      <td>&lt;1H OCEAN</td>\n",
       "    </tr>\n",
       "    <tr>\n",
       "      <th>6061</th>\n",
       "      <td>&lt;1H OCEAN</td>\n",
       "    </tr>\n",
       "  </tbody>\n",
       "</table>\n",
       "</div>"
      ],
      "text/plain": [
       "      ocean_proximity\n",
       "14196      NEAR OCEAN\n",
       "8267       NEAR OCEAN\n",
       "17445      NEAR OCEAN\n",
       "14265      NEAR OCEAN\n",
       "2271           INLAND\n",
       "17848       <1H OCEAN\n",
       "6252        <1H OCEAN\n",
       "9389         NEAR BAY\n",
       "6113        <1H OCEAN\n",
       "6061        <1H OCEAN"
      ]
     },
     "execution_count": 9,
     "metadata": {},
     "output_type": "execute_result"
    }
   ],
   "source": [
    "#one-hot encoding of categorical data to remove missing values\n",
    "\n",
    "train_cat=train[[\"ocean_proximity\"]]\n",
    "train_cat.head(10)"
   ]
  },
  {
   "cell_type": "code",
   "execution_count": 10,
   "id": "b69d38d8",
   "metadata": {},
   "outputs": [
    {
     "data": {
      "text/plain": [
       "<16512x5 sparse matrix of type '<class 'numpy.float64'>'\n",
       "\twith 16512 stored elements in Compressed Sparse Row format>"
      ]
     },
     "execution_count": 10,
     "metadata": {},
     "output_type": "execute_result"
    }
   ],
   "source": [
    "#using One Hot Encoder\n",
    "\n",
    "from sklearn.preprocessing import OneHotEncoder\n",
    "\n",
    "cat_encoder=OneHotEncoder()\n",
    "train_cat_1hot=cat_encoder.fit_transform(train_cat)\n",
    "train_cat_1hot\n"
   ]
  },
  {
   "cell_type": "code",
   "execution_count": 11,
   "id": "6972108a",
   "metadata": {},
   "outputs": [
    {
     "data": {
      "text/plain": [
       "array([[0., 0., 0., 0., 1.],\n",
       "       [0., 0., 0., 0., 1.],\n",
       "       [0., 0., 0., 0., 1.],\n",
       "       ...,\n",
       "       [1., 0., 0., 0., 0.],\n",
       "       [1., 0., 0., 0., 0.],\n",
       "       [0., 0., 0., 1., 0.]])"
      ]
     },
     "execution_count": 11,
     "metadata": {},
     "output_type": "execute_result"
    }
   ],
   "source": [
    "# convert normal 2D array to a (dense) NumPy array, use toarray() method\n",
    "\n",
    "train_cat_1hot.toarray()"
   ]
  },
  {
   "cell_type": "code",
   "execution_count": 12,
   "id": "830d9655",
   "metadata": {},
   "outputs": [
    {
     "data": {
      "text/plain": [
       "[array(['<1H OCEAN', 'INLAND', 'ISLAND', 'NEAR BAY', 'NEAR OCEAN'],\n",
       "       dtype=object)]"
      ]
     },
     "execution_count": 12,
     "metadata": {},
     "output_type": "execute_result"
    }
   ],
   "source": [
    "#encoded categories\n",
    "\n",
    "cat_encoder.categories_"
   ]
  },
  {
   "cell_type": "markdown",
   "id": "eaccaaf5",
   "metadata": {},
   "source": [
    "# Feature engineering"
   ]
  },
  {
   "cell_type": "code",
   "execution_count": 13,
   "id": "21aa3966",
   "metadata": {},
   "outputs": [
    {
     "data": {
      "text/plain": [
       "median_house_value          1.000000\n",
       "median_income               0.690647\n",
       "rooms_per_household         0.158485\n",
       "total_rooms                 0.133989\n",
       "housing_median_age          0.103706\n",
       "households                  0.063714\n",
       "total_bedrooms              0.047980\n",
       "population_per_household   -0.022030\n",
       "population                 -0.026032\n",
       "longitude                  -0.046349\n",
       "latitude                   -0.142983\n",
       "bedrooms_per_room          -0.257419\n",
       "Name: median_house_value, dtype: float64"
      ]
     },
     "execution_count": 13,
     "metadata": {},
     "output_type": "execute_result"
    }
   ],
   "source": [
    "#exploration t0 gain insight\n",
    "train[\"rooms_per_household\"] = train[\"total_rooms\"]/train[\"households\"]\n",
    "train[\"bedrooms_per_room\"] = train[\"total_bedrooms\"]/train[\"total_rooms\"]\n",
    "train[\"population_per_household\"] = train[\"population\"]/train[\"households\"]\n",
    "\n",
    "corr_matrix = train.corr()\n",
    "corr_matrix[\"median_house_value\"].sort_values(ascending=False)"
   ]
  },
  {
   "cell_type": "markdown",
   "id": "643732e7",
   "metadata": {},
   "source": [
    "# Feature scaling"
   ]
  },
  {
   "cell_type": "code",
   "execution_count": 14,
   "id": "1b45c8a4",
   "metadata": {},
   "outputs": [
    {
     "data": {
      "text/plain": [
       "14196    103000.0\n",
       "8267     382100.0\n",
       "17445    172600.0\n",
       "14265     93400.0\n",
       "2271      96500.0\n",
       "Name: median_house_value, dtype: float64"
      ]
     },
     "execution_count": 14,
     "metadata": {},
     "output_type": "execute_result"
    }
   ],
   "source": [
    "#standadization by scikit learn\n",
    "train_labels=train['median_house_value'].copy()\n",
    "\n",
    "# drop the labels from the train set via the pandas drop function\n",
    "train=train.drop('median_house_value', axis=1)\n",
    "# axis=1 means that median_house_value should be dropped column wise\n",
    "\n",
    "train_num=train.drop(\"ocean_proximity\", axis=1)\n",
    "#  re-do since the additional columns; rooms_per_household, bedrooms_per_room and population_per_household were added\n",
    "\n",
    "train_labels.head()"
   ]
  },
  {
   "cell_type": "code",
   "execution_count": 15,
   "id": "aa9642b2",
   "metadata": {},
   "outputs": [
    {
     "data": {
      "text/html": [
       "<div>\n",
       "<style scoped>\n",
       "    .dataframe tbody tr th:only-of-type {\n",
       "        vertical-align: middle;\n",
       "    }\n",
       "\n",
       "    .dataframe tbody tr th {\n",
       "        vertical-align: top;\n",
       "    }\n",
       "\n",
       "    .dataframe thead th {\n",
       "        text-align: right;\n",
       "    }\n",
       "</style>\n",
       "<table border=\"1\" class=\"dataframe\">\n",
       "  <thead>\n",
       "    <tr style=\"text-align: right;\">\n",
       "      <th></th>\n",
       "      <th>longitude</th>\n",
       "      <th>latitude</th>\n",
       "      <th>housing_median_age</th>\n",
       "      <th>total_rooms</th>\n",
       "      <th>total_bedrooms</th>\n",
       "      <th>population</th>\n",
       "      <th>households</th>\n",
       "      <th>median_income</th>\n",
       "      <th>ocean_proximity</th>\n",
       "      <th>rooms_per_household</th>\n",
       "      <th>bedrooms_per_room</th>\n",
       "      <th>population_per_household</th>\n",
       "    </tr>\n",
       "  </thead>\n",
       "  <tbody>\n",
       "    <tr>\n",
       "      <th>14196</th>\n",
       "      <td>-117.03</td>\n",
       "      <td>32.71</td>\n",
       "      <td>33.0</td>\n",
       "      <td>3126.0</td>\n",
       "      <td>627.0</td>\n",
       "      <td>2300.0</td>\n",
       "      <td>623.0</td>\n",
       "      <td>3.2596</td>\n",
       "      <td>NEAR OCEAN</td>\n",
       "      <td>5.017657</td>\n",
       "      <td>0.200576</td>\n",
       "      <td>3.691814</td>\n",
       "    </tr>\n",
       "    <tr>\n",
       "      <th>8267</th>\n",
       "      <td>-118.16</td>\n",
       "      <td>33.77</td>\n",
       "      <td>49.0</td>\n",
       "      <td>3382.0</td>\n",
       "      <td>787.0</td>\n",
       "      <td>1314.0</td>\n",
       "      <td>756.0</td>\n",
       "      <td>3.8125</td>\n",
       "      <td>NEAR OCEAN</td>\n",
       "      <td>4.473545</td>\n",
       "      <td>0.232703</td>\n",
       "      <td>1.738095</td>\n",
       "    </tr>\n",
       "    <tr>\n",
       "      <th>17445</th>\n",
       "      <td>-120.48</td>\n",
       "      <td>34.66</td>\n",
       "      <td>4.0</td>\n",
       "      <td>1897.0</td>\n",
       "      <td>331.0</td>\n",
       "      <td>915.0</td>\n",
       "      <td>336.0</td>\n",
       "      <td>4.1563</td>\n",
       "      <td>NEAR OCEAN</td>\n",
       "      <td>5.645833</td>\n",
       "      <td>0.174486</td>\n",
       "      <td>2.723214</td>\n",
       "    </tr>\n",
       "    <tr>\n",
       "      <th>14265</th>\n",
       "      <td>-117.11</td>\n",
       "      <td>32.69</td>\n",
       "      <td>36.0</td>\n",
       "      <td>1421.0</td>\n",
       "      <td>367.0</td>\n",
       "      <td>1418.0</td>\n",
       "      <td>355.0</td>\n",
       "      <td>1.9425</td>\n",
       "      <td>NEAR OCEAN</td>\n",
       "      <td>4.002817</td>\n",
       "      <td>0.258269</td>\n",
       "      <td>3.994366</td>\n",
       "    </tr>\n",
       "    <tr>\n",
       "      <th>2271</th>\n",
       "      <td>-119.80</td>\n",
       "      <td>36.78</td>\n",
       "      <td>43.0</td>\n",
       "      <td>2382.0</td>\n",
       "      <td>431.0</td>\n",
       "      <td>874.0</td>\n",
       "      <td>380.0</td>\n",
       "      <td>3.5542</td>\n",
       "      <td>INLAND</td>\n",
       "      <td>6.268421</td>\n",
       "      <td>0.180940</td>\n",
       "      <td>2.300000</td>\n",
       "    </tr>\n",
       "  </tbody>\n",
       "</table>\n",
       "</div>"
      ],
      "text/plain": [
       "       longitude  latitude  housing_median_age  total_rooms  total_bedrooms  \\\n",
       "14196    -117.03     32.71                33.0       3126.0           627.0   \n",
       "8267     -118.16     33.77                49.0       3382.0           787.0   \n",
       "17445    -120.48     34.66                 4.0       1897.0           331.0   \n",
       "14265    -117.11     32.69                36.0       1421.0           367.0   \n",
       "2271     -119.80     36.78                43.0       2382.0           431.0   \n",
       "\n",
       "       population  households  median_income ocean_proximity  \\\n",
       "14196      2300.0       623.0         3.2596      NEAR OCEAN   \n",
       "8267       1314.0       756.0         3.8125      NEAR OCEAN   \n",
       "17445       915.0       336.0         4.1563      NEAR OCEAN   \n",
       "14265      1418.0       355.0         1.9425      NEAR OCEAN   \n",
       "2271        874.0       380.0         3.5542          INLAND   \n",
       "\n",
       "       rooms_per_household  bedrooms_per_room  population_per_household  \n",
       "14196             5.017657           0.200576                  3.691814  \n",
       "8267              4.473545           0.232703                  1.738095  \n",
       "17445             5.645833           0.174486                  2.723214  \n",
       "14265             4.002817           0.258269                  3.994366  \n",
       "2271              6.268421           0.180940                  2.300000  "
      ]
     },
     "execution_count": 15,
     "metadata": {},
     "output_type": "execute_result"
    }
   ],
   "source": [
    "train.head()"
   ]
  },
  {
   "cell_type": "code",
   "execution_count": 16,
   "id": "098211b0",
   "metadata": {},
   "outputs": [],
   "source": [
    "#pipeline constructor for transformation\n",
    "\n",
    "from sklearn.pipeline import Pipeline \n",
    "from sklearn.preprocessing import StandardScaler\n",
    "\n",
    "num_pipeline = Pipeline([('imputer', SimpleImputer(strategy=\"median\")),('std_scaler', StandardScaler())])\n",
    "train_num_tr = num_pipeline.fit_transform(train_num)\n",
    "\n",
    "#column transformer for both numerical and categorical attributes\n",
    "\n",
    "from sklearn.compose import ColumnTransformer\n",
    "\n",
    "num_attribs = list(train_num)\n",
    "cat_attribs = [\"ocean_proximity\"]\n",
    "full_pipeline = ColumnTransformer([(\"num\", num_pipeline, num_attribs), (\"cat\", OneHotEncoder(), cat_attribs) ])\n",
    "train_prepared = full_pipeline.fit_transform(train)"
   ]
  },
  {
   "cell_type": "code",
   "execution_count": 17,
   "id": "895cf5dc",
   "metadata": {},
   "outputs": [
    {
     "data": {
      "text/plain": [
       "Pipeline(steps=[('standardscaler', StandardScaler()),\n",
       "                ('sgdregressor', SGDRegressor())])"
      ]
     },
     "execution_count": 17,
     "metadata": {},
     "output_type": "execute_result"
    }
   ],
   "source": [
    "# Stochastic gradient model\n",
    "\n",
    "from sklearn.linear_model import SGDRegressor\n",
    "from sklearn.pipeline import make_pipeline\n",
    "\n",
    "rng = np.random.RandomState(0)\n",
    "sgd_model = make_pipeline(StandardScaler(),SGDRegressor(max_iter=1000, tol=1e-3)) \n",
    "sgd_model.fit(train_prepared, train_labels)\n"
   ]
  },
  {
   "cell_type": "code",
   "execution_count": 18,
   "id": "2418b6fb",
   "metadata": {},
   "outputs": [
    {
     "data": {
      "text/plain": [
       "16276815819.616947"
      ]
     },
     "execution_count": 18,
     "metadata": {},
     "output_type": "execute_result"
    }
   ],
   "source": [
    "# Predictions\n",
    "from sklearn.metrics import mean_squared_error\n",
    "\n",
    "train_predictions = sgd_model.predict(train_prepared)\n",
    "sgd_mse = mean_squared_error(train_labels, train_predictions)\n",
    "sgd_rmse = np.sqrt(sgd_mse)\n",
    "sgd_rmse"
   ]
  },
  {
   "cell_type": "code",
   "execution_count": 19,
   "id": "fa524397",
   "metadata": {},
   "outputs": [
    {
     "name": "stdout",
     "output_type": "stream",
     "text": [
      "Scores: [2.64333156e+08 2.59558981e+10 1.85994034e+07 1.06202748e+08\n",
      " 4.41458843e+10 4.49538317e+07 2.26594736e+10 2.02283811e+08\n",
      " 2.84577842e+10 7.79256167e+07]\n",
      "Mean: 12193333877.919527\n",
      "Standard deviation: 15681905405.876303\n"
     ]
    }
   ],
   "source": [
    "#cross validation\n",
    "\n",
    "from sklearn.model_selection import cross_val_score\n",
    "\n",
    "scores = cross_val_score(sgd_model, train_prepared, train_labels, scoring=\"neg_mean_squared_error\", cv=10)\n",
    "sgd_rmse_scores = np.sqrt(-scores)\n",
    "\n",
    "def display_scores(scores):\n",
    "    print(\"Scores:\", scores)\n",
    "    print(\"Mean:\", scores.mean())\n",
    "    print(\"Standard deviation:\", scores.std())\n",
    "display_scores(sgd_rmse_scores)"
   ]
  },
  {
   "cell_type": "code",
   "execution_count": 20,
   "id": "a5126e97",
   "metadata": {},
   "outputs": [
    {
     "data": {
      "text/plain": [
       "GridSearchCV(cv=5,\n",
       "             estimator=Pipeline(steps=[('standardscaler', StandardScaler()),\n",
       "                                       ('sgdregressor', SGDRegressor())]),\n",
       "             param_grid={'sgdregressor__alpha': [0.001],\n",
       "                         'sgdregressor__average': [True],\n",
       "                         'sgdregressor__max_iter': [30, 1000, 2000],\n",
       "                         'sgdregressor__random_state': [0, 4294967295],\n",
       "                         'sgdregressor__shuffle': [True],\n",
       "                         'sgdregressor__validation_fraction': [0.05]},\n",
       "             return_train_score=True, scoring='neg_mean_squared_error')"
      ]
     },
     "execution_count": 20,
     "metadata": {},
     "output_type": "execute_result"
    }
   ],
   "source": [
    "#fine tuning the model (use hyperparameters)\n",
    "\n",
    "from sklearn.model_selection import GridSearchCV\n",
    "from sklearn.model_selection import ParameterGrid\n",
    "\n",
    "param_grid = {'sgdregressor__max_iter': [30, 1000, 2000],'sgdregressor__alpha': [0.001],'sgdregressor__random_state': [0, 2**32 - 1], 'sgdregressor__shuffle': [True], 'sgdregressor__average': [True], 'sgdregressor__validation_fraction': [0.05] }\n",
    "grid_search = GridSearchCV(sgd_model, param_grid, cv=5,scoring='neg_mean_squared_error',return_train_score=True)\n",
    "grid_search.fit(train_prepared, train_labels)"
   ]
  },
  {
   "cell_type": "code",
   "execution_count": 21,
   "id": "356bd11b",
   "metadata": {},
   "outputs": [
    {
     "data": {
      "text/plain": [
       "dict_keys(['memory', 'steps', 'verbose', 'standardscaler', 'sgdregressor', 'standardscaler__copy', 'standardscaler__with_mean', 'standardscaler__with_std', 'sgdregressor__alpha', 'sgdregressor__average', 'sgdregressor__early_stopping', 'sgdregressor__epsilon', 'sgdregressor__eta0', 'sgdregressor__fit_intercept', 'sgdregressor__l1_ratio', 'sgdregressor__learning_rate', 'sgdregressor__loss', 'sgdregressor__max_iter', 'sgdregressor__n_iter_no_change', 'sgdregressor__penalty', 'sgdregressor__power_t', 'sgdregressor__random_state', 'sgdregressor__shuffle', 'sgdregressor__tol', 'sgdregressor__validation_fraction', 'sgdregressor__verbose', 'sgdregressor__warm_start'])"
      ]
     },
     "execution_count": 21,
     "metadata": {},
     "output_type": "execute_result"
    }
   ],
   "source": [
    "sgd_model.get_params().keys()"
   ]
  },
  {
   "cell_type": "code",
   "execution_count": 22,
   "id": "c085d1a6",
   "metadata": {},
   "outputs": [
    {
     "data": {
      "text/plain": [
       "Pipeline(steps=[('standardscaler', StandardScaler()),\n",
       "                ('sgdregressor',\n",
       "                 SGDRegressor(alpha=0.001, average=True, max_iter=30,\n",
       "                              random_state=4294967295,\n",
       "                              validation_fraction=0.05))])"
      ]
     },
     "execution_count": 22,
     "metadata": {},
     "output_type": "execute_result"
    }
   ],
   "source": [
    "grid_search.best_estimator_"
   ]
  },
  {
   "cell_type": "code",
   "execution_count": 23,
   "id": "bb69214a",
   "metadata": {},
   "outputs": [
    {
     "name": "stdout",
     "output_type": "stream",
     "text": [
      "1428744200.4486032 {'sgdregressor__alpha': 0.001, 'sgdregressor__average': True, 'sgdregressor__max_iter': 30, 'sgdregressor__random_state': 0, 'sgdregressor__shuffle': True, 'sgdregressor__validation_fraction': 0.05}\n",
      "604977638.0833852 {'sgdregressor__alpha': 0.001, 'sgdregressor__average': True, 'sgdregressor__max_iter': 30, 'sgdregressor__random_state': 4294967295, 'sgdregressor__shuffle': True, 'sgdregressor__validation_fraction': 0.05}\n",
      "1428744200.4486032 {'sgdregressor__alpha': 0.001, 'sgdregressor__average': True, 'sgdregressor__max_iter': 1000, 'sgdregressor__random_state': 0, 'sgdregressor__shuffle': True, 'sgdregressor__validation_fraction': 0.05}\n",
      "604977638.0833852 {'sgdregressor__alpha': 0.001, 'sgdregressor__average': True, 'sgdregressor__max_iter': 1000, 'sgdregressor__random_state': 4294967295, 'sgdregressor__shuffle': True, 'sgdregressor__validation_fraction': 0.05}\n",
      "1428744200.4486032 {'sgdregressor__alpha': 0.001, 'sgdregressor__average': True, 'sgdregressor__max_iter': 2000, 'sgdregressor__random_state': 0, 'sgdregressor__shuffle': True, 'sgdregressor__validation_fraction': 0.05}\n",
      "604977638.0833852 {'sgdregressor__alpha': 0.001, 'sgdregressor__average': True, 'sgdregressor__max_iter': 2000, 'sgdregressor__random_state': 4294967295, 'sgdregressor__shuffle': True, 'sgdregressor__validation_fraction': 0.05}\n"
     ]
    }
   ],
   "source": [
    "cvres = grid_search.cv_results_\n",
    "for mean_score, params in zip(cvres[\"mean_test_score\"], cvres[\"params\"]):\n",
    "    print(np.sqrt(-mean_score), params)"
   ]
  },
  {
   "cell_type": "code",
   "execution_count": 24,
   "id": "6bfe38ea",
   "metadata": {},
   "outputs": [],
   "source": [
    "\n",
    "import pickle \n",
    "\n",
    "\n",
    "filename = 'SDG_housing_model.pkl'\n",
    "pickle.dump(grid_search.best_estimator_,open(filename,'wb'))"
   ]
  },
  {
   "cell_type": "code",
   "execution_count": 25,
   "id": "bd061d12",
   "metadata": {},
   "outputs": [],
   "source": [
    "#Reload model of test data\n",
    "\n",
    "import pickle\n",
    "\n",
    "with open('SDG_housing_model.pkl', 'rb') as a:\n",
    "   model = pickle.load(a)"
   ]
  },
  {
   "cell_type": "markdown",
   "id": "90d72c13",
   "metadata": {},
   "source": [
    "# Training test data"
   ]
  },
  {
   "cell_type": "code",
   "execution_count": 26,
   "id": "5a877c1d",
   "metadata": {},
   "outputs": [
    {
     "data": {
      "text/plain": [
       "SimpleImputer(strategy='median')"
      ]
     },
     "execution_count": 26,
     "metadata": {},
     "output_type": "execute_result"
    }
   ],
   "source": [
    "#exclude text attribute and fit to training data\n",
    "\n",
    "test_num=test.drop(\"ocean_proximity\", axis=1)\n",
    "imputer.fit(test_num)"
   ]
  },
  {
   "cell_type": "code",
   "execution_count": 27,
   "id": "95c891f7",
   "metadata": {},
   "outputs": [],
   "source": [
    "imputer.statistics_\n",
    "test_num.median().values\n",
    "\n",
    "X=imputer.transform(test_num)\n",
    "test_tr=pd.DataFrame(X, columns=test_num.columns)"
   ]
  },
  {
   "cell_type": "code",
   "execution_count": 28,
   "id": "b47dc438",
   "metadata": {},
   "outputs": [
    {
     "data": {
      "text/html": [
       "<div>\n",
       "<style scoped>\n",
       "    .dataframe tbody tr th:only-of-type {\n",
       "        vertical-align: middle;\n",
       "    }\n",
       "\n",
       "    .dataframe tbody tr th {\n",
       "        vertical-align: top;\n",
       "    }\n",
       "\n",
       "    .dataframe thead th {\n",
       "        text-align: right;\n",
       "    }\n",
       "</style>\n",
       "<table border=\"1\" class=\"dataframe\">\n",
       "  <thead>\n",
       "    <tr style=\"text-align: right;\">\n",
       "      <th></th>\n",
       "      <th>ocean_proximity</th>\n",
       "    </tr>\n",
       "  </thead>\n",
       "  <tbody>\n",
       "    <tr>\n",
       "      <th>20046</th>\n",
       "      <td>INLAND</td>\n",
       "    </tr>\n",
       "    <tr>\n",
       "      <th>3024</th>\n",
       "      <td>INLAND</td>\n",
       "    </tr>\n",
       "    <tr>\n",
       "      <th>15663</th>\n",
       "      <td>NEAR BAY</td>\n",
       "    </tr>\n",
       "    <tr>\n",
       "      <th>20484</th>\n",
       "      <td>&lt;1H OCEAN</td>\n",
       "    </tr>\n",
       "    <tr>\n",
       "      <th>9814</th>\n",
       "      <td>NEAR OCEAN</td>\n",
       "    </tr>\n",
       "    <tr>\n",
       "      <th>13311</th>\n",
       "      <td>INLAND</td>\n",
       "    </tr>\n",
       "    <tr>\n",
       "      <th>7113</th>\n",
       "      <td>&lt;1H OCEAN</td>\n",
       "    </tr>\n",
       "    <tr>\n",
       "      <th>7668</th>\n",
       "      <td>&lt;1H OCEAN</td>\n",
       "    </tr>\n",
       "    <tr>\n",
       "      <th>18246</th>\n",
       "      <td>NEAR BAY</td>\n",
       "    </tr>\n",
       "    <tr>\n",
       "      <th>5723</th>\n",
       "      <td>&lt;1H OCEAN</td>\n",
       "    </tr>\n",
       "  </tbody>\n",
       "</table>\n",
       "</div>"
      ],
      "text/plain": [
       "      ocean_proximity\n",
       "20046          INLAND\n",
       "3024           INLAND\n",
       "15663        NEAR BAY\n",
       "20484       <1H OCEAN\n",
       "9814       NEAR OCEAN\n",
       "13311          INLAND\n",
       "7113        <1H OCEAN\n",
       "7668        <1H OCEAN\n",
       "18246        NEAR BAY\n",
       "5723        <1H OCEAN"
      ]
     },
     "execution_count": 28,
     "metadata": {},
     "output_type": "execute_result"
    }
   ],
   "source": [
    "#one-hot encoding of categorical data to remove missing values\n",
    "\n",
    "test_cat=test[[\"ocean_proximity\"]]\n",
    "test_cat.head(10)"
   ]
  },
  {
   "cell_type": "code",
   "execution_count": 29,
   "id": "dd1dcb2b",
   "metadata": {},
   "outputs": [
    {
     "data": {
      "text/plain": [
       "<4128x5 sparse matrix of type '<class 'numpy.float64'>'\n",
       "\twith 4128 stored elements in Compressed Sparse Row format>"
      ]
     },
     "execution_count": 29,
     "metadata": {},
     "output_type": "execute_result"
    }
   ],
   "source": [
    "#using One Hot Encoder\n",
    "\n",
    "from sklearn.preprocessing import OneHotEncoder\n",
    "\n",
    "cat_encoder=OneHotEncoder()\n",
    "test_cat_1hot=cat_encoder.fit_transform(test_cat)\n",
    "test_cat_1hot\n"
   ]
  },
  {
   "cell_type": "code",
   "execution_count": 30,
   "id": "9622467e",
   "metadata": {},
   "outputs": [
    {
     "data": {
      "text/plain": [
       "[array(['<1H OCEAN', 'INLAND', 'ISLAND', 'NEAR BAY', 'NEAR OCEAN'],\n",
       "       dtype=object)]"
      ]
     },
     "execution_count": 30,
     "metadata": {},
     "output_type": "execute_result"
    }
   ],
   "source": [
    "# convert normal 2D array to a (dense) NumPy array, use toarray() method\n",
    "\n",
    "train_cat_1hot.toarray()\n",
    "\n",
    "#encoded categories\n",
    "\n",
    "cat_encoder.categories_"
   ]
  },
  {
   "cell_type": "markdown",
   "id": "76ac66f9",
   "metadata": {},
   "source": [
    "# Feature engineering"
   ]
  },
  {
   "cell_type": "code",
   "execution_count": 31,
   "id": "0018851e",
   "metadata": {},
   "outputs": [
    {
     "data": {
      "text/plain": [
       "median_house_value          1.000000\n",
       "median_income               0.677502\n",
       "total_rooms                 0.134697\n",
       "rooms_per_household         0.130928\n",
       "housing_median_age          0.113585\n",
       "households                  0.074249\n",
       "total_bedrooms              0.056667\n",
       "population                 -0.019003\n",
       "longitude                  -0.044062\n",
       "population_per_household   -0.121853\n",
       "latitude                   -0.149295\n",
       "bedrooms_per_room          -0.249196\n",
       "Name: median_house_value, dtype: float64"
      ]
     },
     "execution_count": 31,
     "metadata": {},
     "output_type": "execute_result"
    }
   ],
   "source": [
    "#exploration t0 gain insight\n",
    "test[\"rooms_per_household\"] = test[\"total_rooms\"]/test[\"households\"]\n",
    "test[\"bedrooms_per_room\"] = test[\"total_bedrooms\"]/test[\"total_rooms\"]\n",
    "test[\"population_per_household\"] = test[\"population\"]/test[\"households\"]\n",
    "\n",
    "corr_matrix = test.corr()\n",
    "corr_matrix[\"median_house_value\"].sort_values(ascending=False)"
   ]
  },
  {
   "cell_type": "markdown",
   "id": "45c27e65",
   "metadata": {},
   "source": [
    "# Feature scaling"
   ]
  },
  {
   "cell_type": "code",
   "execution_count": 32,
   "id": "db997fb3",
   "metadata": {},
   "outputs": [
    {
     "data": {
      "text/plain": [
       "20046     47700.0\n",
       "3024      45800.0\n",
       "15663    500001.0\n",
       "20484    218600.0\n",
       "9814     278000.0\n",
       "Name: median_house_value, dtype: float64"
      ]
     },
     "execution_count": 32,
     "metadata": {},
     "output_type": "execute_result"
    }
   ],
   "source": [
    "#standadization by scikit learn\n",
    "test_labels=test['median_house_value'].copy()\n",
    "\n",
    "# drop the labels from the train set via the pandas drop function\n",
    "test = test.drop('median_house_value', axis=1)\n",
    "# axis=1 means that median_house_value should be dropped column wise\n",
    "\n",
    "test_num=test.drop(\"ocean_proximity\", axis=1)\n",
    "#  re-do since the additional columns; rooms_per_household, bedrooms_per_room and population_per_household were added\n",
    "\n",
    "test_labels.head()"
   ]
  },
  {
   "cell_type": "code",
   "execution_count": 33,
   "id": "7610c57b",
   "metadata": {},
   "outputs": [
    {
     "data": {
      "text/html": [
       "<div>\n",
       "<style scoped>\n",
       "    .dataframe tbody tr th:only-of-type {\n",
       "        vertical-align: middle;\n",
       "    }\n",
       "\n",
       "    .dataframe tbody tr th {\n",
       "        vertical-align: top;\n",
       "    }\n",
       "\n",
       "    .dataframe thead th {\n",
       "        text-align: right;\n",
       "    }\n",
       "</style>\n",
       "<table border=\"1\" class=\"dataframe\">\n",
       "  <thead>\n",
       "    <tr style=\"text-align: right;\">\n",
       "      <th></th>\n",
       "      <th>longitude</th>\n",
       "      <th>latitude</th>\n",
       "      <th>housing_median_age</th>\n",
       "      <th>total_rooms</th>\n",
       "      <th>total_bedrooms</th>\n",
       "      <th>population</th>\n",
       "      <th>households</th>\n",
       "      <th>median_income</th>\n",
       "      <th>ocean_proximity</th>\n",
       "      <th>rooms_per_household</th>\n",
       "      <th>bedrooms_per_room</th>\n",
       "      <th>population_per_household</th>\n",
       "    </tr>\n",
       "  </thead>\n",
       "  <tbody>\n",
       "    <tr>\n",
       "      <th>14196</th>\n",
       "      <td>-117.03</td>\n",
       "      <td>32.71</td>\n",
       "      <td>33.0</td>\n",
       "      <td>3126.0</td>\n",
       "      <td>627.0</td>\n",
       "      <td>2300.0</td>\n",
       "      <td>623.0</td>\n",
       "      <td>3.2596</td>\n",
       "      <td>NEAR OCEAN</td>\n",
       "      <td>5.017657</td>\n",
       "      <td>0.200576</td>\n",
       "      <td>3.691814</td>\n",
       "    </tr>\n",
       "    <tr>\n",
       "      <th>8267</th>\n",
       "      <td>-118.16</td>\n",
       "      <td>33.77</td>\n",
       "      <td>49.0</td>\n",
       "      <td>3382.0</td>\n",
       "      <td>787.0</td>\n",
       "      <td>1314.0</td>\n",
       "      <td>756.0</td>\n",
       "      <td>3.8125</td>\n",
       "      <td>NEAR OCEAN</td>\n",
       "      <td>4.473545</td>\n",
       "      <td>0.232703</td>\n",
       "      <td>1.738095</td>\n",
       "    </tr>\n",
       "    <tr>\n",
       "      <th>17445</th>\n",
       "      <td>-120.48</td>\n",
       "      <td>34.66</td>\n",
       "      <td>4.0</td>\n",
       "      <td>1897.0</td>\n",
       "      <td>331.0</td>\n",
       "      <td>915.0</td>\n",
       "      <td>336.0</td>\n",
       "      <td>4.1563</td>\n",
       "      <td>NEAR OCEAN</td>\n",
       "      <td>5.645833</td>\n",
       "      <td>0.174486</td>\n",
       "      <td>2.723214</td>\n",
       "    </tr>\n",
       "    <tr>\n",
       "      <th>14265</th>\n",
       "      <td>-117.11</td>\n",
       "      <td>32.69</td>\n",
       "      <td>36.0</td>\n",
       "      <td>1421.0</td>\n",
       "      <td>367.0</td>\n",
       "      <td>1418.0</td>\n",
       "      <td>355.0</td>\n",
       "      <td>1.9425</td>\n",
       "      <td>NEAR OCEAN</td>\n",
       "      <td>4.002817</td>\n",
       "      <td>0.258269</td>\n",
       "      <td>3.994366</td>\n",
       "    </tr>\n",
       "    <tr>\n",
       "      <th>2271</th>\n",
       "      <td>-119.80</td>\n",
       "      <td>36.78</td>\n",
       "      <td>43.0</td>\n",
       "      <td>2382.0</td>\n",
       "      <td>431.0</td>\n",
       "      <td>874.0</td>\n",
       "      <td>380.0</td>\n",
       "      <td>3.5542</td>\n",
       "      <td>INLAND</td>\n",
       "      <td>6.268421</td>\n",
       "      <td>0.180940</td>\n",
       "      <td>2.300000</td>\n",
       "    </tr>\n",
       "  </tbody>\n",
       "</table>\n",
       "</div>"
      ],
      "text/plain": [
       "       longitude  latitude  housing_median_age  total_rooms  total_bedrooms  \\\n",
       "14196    -117.03     32.71                33.0       3126.0           627.0   \n",
       "8267     -118.16     33.77                49.0       3382.0           787.0   \n",
       "17445    -120.48     34.66                 4.0       1897.0           331.0   \n",
       "14265    -117.11     32.69                36.0       1421.0           367.0   \n",
       "2271     -119.80     36.78                43.0       2382.0           431.0   \n",
       "\n",
       "       population  households  median_income ocean_proximity  \\\n",
       "14196      2300.0       623.0         3.2596      NEAR OCEAN   \n",
       "8267       1314.0       756.0         3.8125      NEAR OCEAN   \n",
       "17445       915.0       336.0         4.1563      NEAR OCEAN   \n",
       "14265      1418.0       355.0         1.9425      NEAR OCEAN   \n",
       "2271        874.0       380.0         3.5542          INLAND   \n",
       "\n",
       "       rooms_per_household  bedrooms_per_room  population_per_household  \n",
       "14196             5.017657           0.200576                  3.691814  \n",
       "8267              4.473545           0.232703                  1.738095  \n",
       "17445             5.645833           0.174486                  2.723214  \n",
       "14265             4.002817           0.258269                  3.994366  \n",
       "2271              6.268421           0.180940                  2.300000  "
      ]
     },
     "execution_count": 33,
     "metadata": {},
     "output_type": "execute_result"
    }
   ],
   "source": [
    "train.head()"
   ]
  },
  {
   "cell_type": "code",
   "execution_count": 34,
   "id": "1de13b01",
   "metadata": {},
   "outputs": [],
   "source": [
    "#pipeline constructor for transformation\n",
    "\n",
    "from sklearn.pipeline import Pipeline \n",
    "from sklearn.preprocessing import StandardScaler\n",
    "\n",
    "num_pipeline = Pipeline([('imputer', SimpleImputer(strategy=\"median\")),('std_scaler', StandardScaler())])\n",
    "test_num_tr = num_pipeline.fit_transform(test_num)\n",
    "\n",
    "#column transformer for both numerical and categorical attributes\n",
    "\n",
    "from sklearn.compose import ColumnTransformer\n",
    "\n",
    "num_attribs = list(test_num)\n",
    "cat_attribs = [\"ocean_proximity\"]\n",
    "full_pipeline = ColumnTransformer([(\"num\", num_pipeline, num_attribs), (\"cat\", OneHotEncoder(), cat_attribs) ])\n",
    "test_prepared = full_pipeline.fit_transform(test)"
   ]
  },
  {
   "cell_type": "code",
   "execution_count": 36,
   "id": "c796f706",
   "metadata": {},
   "outputs": [
    {
     "data": {
      "text/plain": [
       "4184840843.425965"
      ]
     },
     "execution_count": 36,
     "metadata": {},
     "output_type": "execute_result"
    }
   ],
   "source": [
    "# Stochastic gradient model\n",
    "#Reload train model of test data\n",
    "\n",
    "import pickle\n",
    "\n",
    "with open('SDG_housing_model.pkl', 'rb') as a:\n",
    "   model = pickle.load(a)\n",
    "\n",
    "test_predict = model.predict(test_prepared)\n",
    "sgd_mse = mean_squared_error(test_labels, test_predict)\n",
    "sgd_rmse = np.sqrt(sgd_mse)\n",
    "sgd_rmse\n"
   ]
  },
  {
   "cell_type": "code",
   "execution_count": 37,
   "id": "6df05eb9",
   "metadata": {},
   "outputs": [
    {
     "name": "stdout",
     "output_type": "stream",
     "text": [
      "Scores: [3.24817719e+07 3.67984321e+10 2.29043085e+07 6.21576525e+06\n",
      " 3.22578068e+10 1.95463053e+07 2.74887139e+10 2.80065807e+08\n",
      " 2.56498952e+10 2.62429160e+08]\n",
      "Mean: 12281849106.118147\n",
      "Standard deviation: 15165580593.826283\n"
     ]
    }
   ],
   "source": [
    "#cross validation\n",
    "\n",
    "from sklearn.model_selection import cross_val_score\n",
    "\n",
    "scores = cross_val_score(sgd_model, train_prepared, train_labels, scoring=\"neg_mean_squared_error\", cv=10)\n",
    "sgd_rmse_scores = np.sqrt(-scores)\n",
    "\n",
    "def display_scores(scores):\n",
    "    print(\"Scores:\", scores)\n",
    "    print(\"Mean:\", scores.mean())\n",
    "    print(\"Standard deviation:\", scores.std())\n",
    "display_scores(sgd_rmse_scores)"
   ]
  },
  {
   "cell_type": "code",
   "execution_count": 38,
   "id": "17e076fa",
   "metadata": {},
   "outputs": [
    {
     "data": {
      "text/plain": [
       "GridSearchCV(cv=5,\n",
       "             estimator=Pipeline(steps=[('standardscaler', StandardScaler()),\n",
       "                                       ('sgdregressor', SGDRegressor())]),\n",
       "             param_grid={'sgdregressor__alpha': [0.001],\n",
       "                         'sgdregressor__average': [True],\n",
       "                         'sgdregressor__max_iter': [30, 1000, 2000],\n",
       "                         'sgdregressor__random_state': [0, 4294967295],\n",
       "                         'sgdregressor__shuffle': [True],\n",
       "                         'sgdregressor__validation_fraction': [0.05]},\n",
       "             return_train_score=True, scoring='neg_mean_squared_error')"
      ]
     },
     "execution_count": 38,
     "metadata": {},
     "output_type": "execute_result"
    }
   ],
   "source": [
    "#fine tuning the model (use hyperparameters)\n",
    "\n",
    "from sklearn.model_selection import GridSearchCV\n",
    "from sklearn.model_selection import ParameterGrid\n",
    "\n",
    "param_grid = {'sgdregressor__max_iter': [30, 1000, 2000],'sgdregressor__alpha': [0.001],'sgdregressor__random_state': [0, 2**32 - 1], 'sgdregressor__shuffle': [True], 'sgdregressor__average': [True], 'sgdregressor__validation_fraction': [0.05] }\n",
    "grid_search = GridSearchCV(sgd_model, param_grid, cv=5,scoring='neg_mean_squared_error',return_train_score=True)\n",
    "grid_search.fit(test_prepared, test_labels)"
   ]
  },
  {
   "cell_type": "code",
   "execution_count": 39,
   "id": "806e942f",
   "metadata": {},
   "outputs": [
    {
     "data": {
      "text/plain": [
       "Pipeline(steps=[('standardscaler', StandardScaler()),\n",
       "                ('sgdregressor',\n",
       "                 SGDRegressor(alpha=0.001, average=True, max_iter=30,\n",
       "                              random_state=4294967295,\n",
       "                              validation_fraction=0.05))])"
      ]
     },
     "execution_count": 39,
     "metadata": {},
     "output_type": "execute_result"
    }
   ],
   "source": [
    "grid_search.best_estimator_"
   ]
  },
  {
   "cell_type": "code",
   "execution_count": 40,
   "id": "d1b42309",
   "metadata": {},
   "outputs": [
    {
     "name": "stdout",
     "output_type": "stream",
     "text": [
      "71461.78766723892 {'sgdregressor__alpha': 0.001, 'sgdregressor__average': True, 'sgdregressor__max_iter': 30, 'sgdregressor__random_state': 0, 'sgdregressor__shuffle': True, 'sgdregressor__validation_fraction': 0.05}\n",
      "70955.48822156455 {'sgdregressor__alpha': 0.001, 'sgdregressor__average': True, 'sgdregressor__max_iter': 30, 'sgdregressor__random_state': 4294967295, 'sgdregressor__shuffle': True, 'sgdregressor__validation_fraction': 0.05}\n",
      "71461.78766723892 {'sgdregressor__alpha': 0.001, 'sgdregressor__average': True, 'sgdregressor__max_iter': 1000, 'sgdregressor__random_state': 0, 'sgdregressor__shuffle': True, 'sgdregressor__validation_fraction': 0.05}\n",
      "70955.48822156455 {'sgdregressor__alpha': 0.001, 'sgdregressor__average': True, 'sgdregressor__max_iter': 1000, 'sgdregressor__random_state': 4294967295, 'sgdregressor__shuffle': True, 'sgdregressor__validation_fraction': 0.05}\n",
      "71461.78766723892 {'sgdregressor__alpha': 0.001, 'sgdregressor__average': True, 'sgdregressor__max_iter': 2000, 'sgdregressor__random_state': 0, 'sgdregressor__shuffle': True, 'sgdregressor__validation_fraction': 0.05}\n",
      "70955.48822156455 {'sgdregressor__alpha': 0.001, 'sgdregressor__average': True, 'sgdregressor__max_iter': 2000, 'sgdregressor__random_state': 4294967295, 'sgdregressor__shuffle': True, 'sgdregressor__validation_fraction': 0.05}\n"
     ]
    }
   ],
   "source": [
    "cvres = grid_search.cv_results_\n",
    "for mean_score, params in zip(cvres[\"mean_test_score\"], cvres[\"params\"]):\n",
    "    print(np.sqrt(-mean_score), params)"
   ]
  },
  {
   "cell_type": "code",
   "execution_count": null,
   "id": "2b4f82f3",
   "metadata": {},
   "outputs": [],
   "source": [
    "# I think the random forest model is better fitted to the data than the stochastic gradient model.\n",
    "#Actual results form the SDG model for train and test data was overfitting. The test data had a higher rmse score than the train data\n",
    "# After validation, the test data reduced significantly.\n",
    "\n",
    "# Howerver, for the random forest model both train and test were similar for actual and after cross validation."
   ]
  }
 ],
 "metadata": {
  "kernelspec": {
   "display_name": "Python 3 (ipykernel)",
   "language": "python",
   "name": "python3"
  },
  "language_info": {
   "codemirror_mode": {
    "name": "ipython",
    "version": 3
   },
   "file_extension": ".py",
   "mimetype": "text/x-python",
   "name": "python",
   "nbconvert_exporter": "python",
   "pygments_lexer": "ipython3",
   "version": "3.9.13"
  }
 },
 "nbformat": 4,
 "nbformat_minor": 5
}
